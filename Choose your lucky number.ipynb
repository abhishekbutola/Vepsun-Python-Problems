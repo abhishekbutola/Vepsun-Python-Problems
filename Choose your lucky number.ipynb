{
 "cells": [
  {
   "cell_type": "markdown",
   "id": "fbf10311",
   "metadata": {},
   "source": [
    "### Select any random number : \n",
    "\n",
    "if number matches you won.\n",
    "\n",
    "if number is greater number is too large\n",
    "\n",
    "if number is smaller number is too small "
   ]
  },
  {
   "cell_type": "code",
   "execution_count": 2,
   "id": "fd96399f",
   "metadata": {},
   "outputs": [],
   "source": [
    "import random"
   ]
  },
  {
   "cell_type": "code",
   "execution_count": 7,
   "id": "7c7170ee",
   "metadata": {},
   "outputs": [
    {
     "name": "stdout",
     "output_type": "stream",
     "text": [
      "Choose the number 25,50,75 \t50\n",
      "your number is too large, the number was  25\n",
      "Choose the number 25,50,75 \t50\n",
      "Conratulations!!! It's your lucky day !!!\n"
     ]
    }
   ],
   "source": [
    "while True:\n",
    "    n = random.choice([50,75,25])\n",
    "    while True :\n",
    "        k=int(input(\"Choose the number 25,50,75 \\t\"))\n",
    "        if ((k ==25) or (k==50) or (k==75)):\n",
    "            break\n",
    "        else:\n",
    "            print(\"wrong choice!!! enter number between 25, 50 & 75\")\n",
    "    \n",
    "    if (k==n):\n",
    "        print(\"Conratulations!!! It's your lucky day !!!\")\n",
    "        break\n",
    "    elif(k<n):\n",
    "        print(\" Your number is too small, the number was\",n)\n",
    "    else :\n",
    "        print (\"your number is too large, the number was \",n)"
   ]
  },
  {
   "cell_type": "code",
   "execution_count": null,
   "id": "698cde05",
   "metadata": {},
   "outputs": [],
   "source": []
  },
  {
   "cell_type": "code",
   "execution_count": null,
   "id": "41b3f13f",
   "metadata": {},
   "outputs": [],
   "source": []
  },
  {
   "cell_type": "code",
   "execution_count": null,
   "id": "c404bd44",
   "metadata": {},
   "outputs": [],
   "source": []
  }
 ],
 "metadata": {
  "kernelspec": {
   "display_name": "Python 3 (ipykernel)",
   "language": "python",
   "name": "python3"
  },
  "language_info": {
   "codemirror_mode": {
    "name": "ipython",
    "version": 3
   },
   "file_extension": ".py",
   "mimetype": "text/x-python",
   "name": "python",
   "nbconvert_exporter": "python",
   "pygments_lexer": "ipython3",
   "version": "3.9.7"
  }
 },
 "nbformat": 4,
 "nbformat_minor": 5
}
