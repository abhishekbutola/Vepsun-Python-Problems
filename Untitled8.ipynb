{
  "metadata": {
    "language_info": {
      "codemirror_mode": {
        "name": "python",
        "version": 3
      },
      "file_extension": ".py",
      "mimetype": "text/x-python",
      "name": "python",
      "nbconvert_exporter": "python",
      "pygments_lexer": "ipython3",
      "version": "3.8"
    },
    "kernelspec": {
      "name": "python",
      "display_name": "Pyolite",
      "language": "python"
    }
  },
  "nbformat_minor": 4,
  "nbformat": 4,
  "cells": [
    {
      "cell_type": "code",
      "source": "class Grandfather :\n    def business(self):\n        print (\"Grandfather business in Mumbai\")\nclass Father(Grandfather):\n    def car(self):\n        print (\"Father's car : Maruti\")\nclass Mother :\n    def kitchen(self):\n        print (\"Mother made the breakfast : Noodles \")\nclass Son(Father,Mother):\n    def access(self,s):\n        print (\"I'm %s and have the access to following\"%s)\n        self.business()\n        self.car()\n        self.kitchen()\nclass Daughter(Mother,Father ):\n    def access(self,a):\n        print (\"I'm %s and have access to the following\"%a)\n        self.business()\n        self.car()\n        self.kitchen()\nclass Grandson(Son):\n    def myfamily(self,p):\n        print (\"Im %s, I have accesss to following :\"%p)\n        self.business()\n        self.car()\n        self.kitchen()\nprint('\\n\\n')        \nnitin = Grandson()\nnitin.myfamily(\"nitin\")\nprint('\\n\\n')\nkirti= Daughter()\nkirti.access(\"kirti\")\nprint('\\n\\n')\npranav=Son()\npranav.access(\"pranav\")\nprint('\\n\\n')\nrashmi=Mother()\ntarun=Father()\nPrashant=Grandfather()",
      "metadata": {
        "trusted": true
      },
      "execution_count": 14,
      "outputs": [
        {
          "name": "stdout",
          "text": "\n\n\nIm nitin, I have accesss to following :\nGrandfather business in Mumbai\nFather's car : Maruti\nMother made the breakfast : Noodles \n\n\n\nI'm kirti and have access to the following\nGrandfather business in Mumbai\nFather's car : Maruti\nMother made the breakfast : Noodles \n\n\n\nI'm pranav and have the access to following\nGrandfather business in Mumbai\nFather's car : Maruti\nMother made the breakfast : Noodles \n\n\n\n",
          "output_type": "stream"
        }
      ]
    },
    {
      "cell_type": "code",
      "source": "",
      "metadata": {},
      "execution_count": null,
      "outputs": []
    },
    {
      "cell_type": "code",
      "source": "",
      "metadata": {},
      "execution_count": null,
      "outputs": []
    }
  ]
}